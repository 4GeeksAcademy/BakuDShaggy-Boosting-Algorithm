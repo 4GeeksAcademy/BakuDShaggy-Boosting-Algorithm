{
    "cells": [
        {
            "cell_type": "markdown",
            "metadata": {},
            "source": [
                "# Explore here"
            ]
        },
        {
            "cell_type": "code",
            "execution_count": 5,
            "metadata": {},
            "outputs": [],
            "source": [
                "# Importar librerías esenciales (solo las que tienes en requirements.txt)\n",
                "import pandas as pd\n",
                "import numpy as np\n",
                "import matplotlib.pyplot as plt\n",
                "import seaborn as sns\n",
                "from sklearn.model_selection import train_test_split\n",
                "from sklearn.metrics import r2_score, mean_squared_error\n",
                "import xgboost as xgb\n",
                "import joblib\n",
                "\n",
                "# Configurar estilo de gráficos\n",
                "sns.set_style(\"whitegrid\")\n",
                "plt.rcParams['figure.figsize'] = (10, 6)\n"
            ]
        },
        {
            "cell_type": "markdown",
            "metadata": {},
            "source": [
                "# Carga y preparacion de datos"
            ]
        },
        {
            "cell_type": "code",
            "execution_count": 4,
            "metadata": {},
            "outputs": [
                {
                    "name": "stdout",
                    "output_type": "stream",
                    "text": [
                        "✅ Datos preparados:\n",
                        "- Entrenamiento: (2512, 6)\n",
                        "- Prueba: (628, 6)\n"
                    ]
                }
            ],
            "source": [
                "# Cargar datos (usando el mismo dataset del proyecto anterior)\n",
                "url = \"https://raw.githubusercontent.com/4GeeksAcademy/regularized-linear-regression-project-tutorial/main/demographic_health_data.csv\"\n",
                "data = pd.read_csv(url)\n",
                "\n",
                "# Seleccionar características y objetivo\n",
                "TARGET = 'diabetes_prevalence'\n",
                "FEATURES = [\n",
                "    'Median_Household_Income_2018',\n",
                "    'PCTPOVALL_2018',\n",
                "    \"Percent of adults with a bachelor's degree or higher 2014-18\",\n",
                "    'Percent of Population Aged 60+',\n",
                "    'Unemployment_rate_2018',\n",
                "    '% Black-alone'\n",
                "]\n",
                "\n",
                "# Limpiar datos\n",
                "df = data[FEATURES + [TARGET]].copy()\n",
                "df = df.dropna(subset=[TARGET])\n",
                "df = df.fillna(df.median())\n",
                "\n",
                "# Dividir en entrenamiento y prueba\n",
                "X = df[FEATURES]\n",
                "y = df[TARGET]\n",
                "X_train, X_test, y_train, y_test = train_test_split(X, y, test_size=0.2, random_state=42)\n",
                "\n",
                "print(\"✅ Datos preparados:\")\n",
                "print(f\"- Entrenamiento: {X_train.shape}\")\n",
                "print(f\"- Prueba: {X_test.shape}\")"
            ]
        },
        {
            "cell_type": "markdown",
            "metadata": {},
            "source": [
                "XGBoost"
            ]
        },
        {
            "cell_type": "code",
            "execution_count": 6,
            "metadata": {},
            "outputs": [
                {
                    "name": "stdout",
                    "output_type": "stream",
                    "text": [
                        "\n",
                        "📊 Rendimiento inicial del modelo:\n",
                        "- R²: 0.8353\n",
                        "- RMSE: 1.1511\n"
                    ]
                }
            ],
            "source": [
                "# Crear y entrenar modelo\n",
                "model = xgb.XGBRegressor(\n",
                "    objective='reg:squarederror',\n",
                "    n_estimators=100,\n",
                "    learning_rate=0.1,\n",
                "    max_depth=3,\n",
                "    random_state=42\n",
                ")\n",
                "model.fit(X_train, y_train)\n",
                "\n",
                "# Evaluar modelo\n",
                "y_pred = model.predict(X_test)\n",
                "r2 = r2_score(y_test, y_pred)\n",
                "rmse = np.sqrt(mean_squared_error(y_test, y_pred))\n",
                "\n",
                "print(\"\\n📊 Rendimiento inicial del modelo:\")\n",
                "print(f\"- R²: {r2:.4f}\")\n",
                "print(f\"- RMSE: {rmse:.4f}\")"
            ]
        },
        {
            "cell_type": "markdown",
            "metadata": {},
            "source": [
                "Optimizacion"
            ]
        },
        {
            "cell_type": "code",
            "execution_count": 7,
            "metadata": {},
            "outputs": [
                {
                    "name": "stdout",
                    "output_type": "stream",
                    "text": [
                        "\n",
                        "🔍 Optimizando número de estimadores:\n",
                        "- 50 estimadores: R² = 0.8223\n",
                        "- 100 estimadores: R² = 0.8353\n",
                        "- 150 estimadores: R² = 0.8398\n",
                        "- 200 estimadores: R² = 0.8410\n",
                        "\n",
                        "⭐ Mejor número de estimadores: 200\n",
                        "\n",
                        "🔍 Optimizando profundidad máxima:\n",
                        "- Profundidad 2: R² = 0.8315\n",
                        "- Profundidad 3: R² = 0.8410\n",
                        "- Profundidad 4: R² = 0.8343\n",
                        "- Profundidad 5: R² = 0.8277\n",
                        "\n",
                        "⭐ Mejor profundidad: 3\n"
                    ]
                }
            ],
            "source": [
                "# Probar diferentes números de estimadores\n",
                "n_estimators_list = [50, 100, 150, 200]\n",
                "results = []\n",
                "\n",
                "print(\"\\n🔍 Optimizando número de estimadores:\")\n",
                "for n in n_estimators_list:\n",
                "    model = xgb.XGBRegressor(\n",
                "        objective='reg:squarederror',\n",
                "        n_estimators=n,\n",
                "        learning_rate=0.1,\n",
                "        max_depth=3,\n",
                "        random_state=42\n",
                "    )\n",
                "    model.fit(X_train, y_train)\n",
                "    y_pred = model.predict(X_test)\n",
                "    r2 = r2_score(y_test, y_pred)\n",
                "    results.append({'n_estimators': n, 'r2': r2})\n",
                "    print(f\"- {n} estimadores: R² = {r2:.4f}\")\n",
                "\n",
                "# Encontrar el mejor valor\n",
                "best_n = max(results, key=lambda x: x['r2'])['n_estimators']\n",
                "print(f\"\\n⭐ Mejor número de estimadores: {best_n}\")\n",
                "\n",
                "# Probar diferentes profundidades máximas\n",
                "depths = [2, 3, 4, 5]\n",
                "depth_results = []\n",
                "\n",
                "print(\"\\n🔍 Optimizando profundidad máxima:\")\n",
                "for depth in depths:\n",
                "    model = xgb.XGBRegressor(\n",
                "        objective='reg:squarederror',\n",
                "        n_estimators=best_n,\n",
                "        learning_rate=0.1,\n",
                "        max_depth=depth,\n",
                "        random_state=42\n",
                "    )\n",
                "    model.fit(X_train, y_train)\n",
                "    y_pred = model.predict(X_test)\n",
                "    r2 = r2_score(y_test, y_pred)\n",
                "    depth_results.append({'max_depth': depth, 'r2': r2})\n",
                "    print(f\"- Profundidad {depth}: R² = {r2:.4f}\")\n",
                "\n",
                "# Encontrar la mejor profundidad\n",
                "best_depth = max(depth_results, key=lambda x: x['r2'])['max_depth']\n",
                "print(f\"\\n⭐ Mejor profundidad: {best_depth}\")"
            ]
        },
        {
            "cell_type": "markdown",
            "metadata": {},
            "source": [
                "Entrenar modelo final"
            ]
        },
        {
            "cell_type": "code",
            "execution_count": 8,
            "metadata": {},
            "outputs": [
                {
                    "name": "stdout",
                    "output_type": "stream",
                    "text": [
                        "\n",
                        "🚀 Modelo final optimizado:\n",
                        "- R²: 0.8410\n",
                        "- RMSE: 1.1308\n",
                        "\n",
                        "💾 Modelo guardado como 'mejor_modelo_diabetes.pkl'\n",
                        "\n",
                        "🔝 Características más importantes:\n",
                        "                                      Característica  Importancia\n",
                        "0                       Median_Household_Income_2018     0.585566\n",
                        "2  Percent of adults with a bachelor's degree or ...     0.170981\n",
                        "5                                      % Black-alone     0.086279\n",
                        "1                                     PCTPOVALL_2018     0.068924\n",
                        "3                     Percent of Population Aged 60+     0.054861\n",
                        "4                             Unemployment_rate_2018     0.033390\n"
                    ]
                }
            ],
            "source": [
                "# Entrenar modelo con mejores parámetros\n",
                "final_model = xgb.XGBRegressor(\n",
                "    objective='reg:squarederror',\n",
                "    n_estimators=best_n,\n",
                "    learning_rate=0.1,\n",
                "    max_depth=best_depth,\n",
                "    random_state=42\n",
                ")\n",
                "final_model.fit(X_train, y_train)\n",
                "\n",
                "# Evaluar modelo final\n",
                "y_pred_final = final_model.predict(X_test)\n",
                "final_r2 = r2_score(y_test, y_pred_final)\n",
                "final_rmse = np.sqrt(mean_squared_error(y_test, y_pred_final))\n",
                "\n",
                "print(\"\\n🚀 Modelo final optimizado:\")\n",
                "print(f\"- R²: {final_r2:.4f}\")\n",
                "print(f\"- RMSE: {final_rmse:.4f}\")\n",
                "\n",
                "# Guardar modelo\n",
                "joblib.dump(final_model, 'mejor_modelo_diabetes.pkl')\n",
                "print(\"\\n💾 Modelo guardado como 'mejor_modelo_diabetes.pkl'\")\n",
                "\n",
                "# Importancia de características\n",
                "importance = pd.DataFrame({\n",
                "    'Característica': FEATURES,\n",
                "    'Importancia': final_model.feature_importances_\n",
                "}).sort_values('Importancia', ascending=False)\n",
                "\n",
                "print(\"\\n🔝 Características más importantes:\")\n",
                "print(importance)"
            ]
        },
        {
            "cell_type": "markdown",
            "metadata": {},
            "source": [
                "Comparacion"
            ]
        },
        {
            "cell_type": "code",
            "execution_count": 9,
            "metadata": {},
            "outputs": [
                {
                    "name": "stdout",
                    "output_type": "stream",
                    "text": [
                        "\n",
                        "🆚 Comparación de modelos:\n",
                        "               Modelo        R²\n",
                        "0   Árbol de Decisión  0.750000\n",
                        "1       Random Forest  0.780000\n",
                        "2  XGBoost (Boosting)  0.841033\n"
                    ]
                },
                {
                    "data": {
                        "image/png": "[encoded data removed]",
                        "text/plain": [
                            "<Figure size 1000x600 with 1 Axes>"
                        ]
                    },
                    "metadata": {},
                    "output_type": "display_data"
                },
                {
                    "name": "stdout",
                    "output_type": "stream",
                    "text": [
                        "\n",
                        "✅ Conclusión:\n",
                        "El modelo de Boosting (XGBoost) obtuvo un R² de 0.8410, superando\n",
                        "al Árbol de Decisión (0.7500) y al Random Forest (0.7800)\n"
                    ]
                }
            ],
            "source": [
                "# Valores hipotéticos de modelos anteriores (deberías reemplazarlos con tus resultados reales)\n",
                "decision_tree_r2 = 0.75\n",
                "random_forest_r2 = 0.78\n",
                "\n",
                "# Comparación\n",
                "comparison = pd.DataFrame({\n",
                "    'Modelo': ['Árbol de Decisión', 'Random Forest', 'XGBoost (Boosting)'],\n",
                "    'R²': [decision_tree_r2, random_forest_r2, final_r2]\n",
                "})\n",
                "\n",
                "print(\"\\n🆚 Comparación de modelos:\")\n",
                "print(comparison)\n",
                "\n",
                "# Gráfico comparativo\n",
                "plt.figure(figsize=(10, 6))\n",
                "plt.bar(comparison['Modelo'], comparison['R²'], color=['blue', 'green', 'red'])\n",
                "plt.ylabel('R² (Precisión)')\n",
                "plt.title('Comparación de Rendimiento entre Modelos')\n",
                "plt.ylim(0.7, 0.9)\n",
                "plt.grid(axis='y')\n",
                "plt.savefig('comparacion_modelos.png', bbox_inches='tight')\n",
                "plt.show()\n",
                "\n",
                "print(\"\\n✅ Conclusión:\")\n",
                "print(f\"El modelo de Boosting (XGBoost) obtuvo un R² de {final_r2:.4f}, superando\")\n",
                "print(f\"al Árbol de Decisión ({decision_tree_r2:.4f}) y al Random Forest ({random_forest_r2:.4f})\")"
            ]
        }
    ],
    "metadata": {
        "kernelspec": {
            "display_name": "Python 3",
            "language": "python",
            "name": "python3"
        },
        "language_info": {
            "codemirror_mode": {
                "name": "ipython",
                "version": 3
            },
            "file_extension": ".py",
            "mimetype": "text/x-python",
            "name": "python",
            "nbconvert_exporter": "python",
            "pygments_lexer": "ipython3",
            "version": "3.11.4"
        },
        "orig_nbformat": 4
    },
    "nbformat": 4,
    "nbformat_minor": 2
}
